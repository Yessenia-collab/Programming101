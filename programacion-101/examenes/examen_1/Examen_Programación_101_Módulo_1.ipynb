{
  "nbformat": 4,
  "nbformat_minor": 0,
  "metadata": {
    "colab": {
      "provenance": [],
      "include_colab_link": true
    },
    "kernelspec": {
      "name": "python3",
      "display_name": "Python 3"
    },
    "language_info": {
      "name": "python"
    }
  },
  "cells": [
    {
      "cell_type": "markdown",
      "metadata": {
        "id": "view-in-github",
        "colab_type": "text"
      },
      "source": [
        "<a href=\"https://colab.research.google.com/github/Yessenia-collab/Programming101/blob/main/programacion-101/examenes/examen_1/Examen_Programaci%C3%B3n_101_M%C3%B3dulo_1.ipynb\" target=\"_parent\"><img src=\"https://colab.research.google.com/assets/colab-badge.svg\" alt=\"Open In Colab\"/></a>"
      ]
    },
    {
      "cell_type": "markdown",
      "source": [
        "<img src=\"https://posgrado.utec.edu.pe/sites/default/files/2023-08/Testimonial-home-2.jpg\" alt=\"HTML5 Icon\" width=\"900\" height=\"250\" >\n"
      ],
      "metadata": {
        "id": "ub41hbIV6UQ6"
      }
    },
    {
      "cell_type": "markdown",
      "source": [
        "#**Examen Programación 101 – Módulo 1**\n"
      ],
      "metadata": {
        "id": "zpZSxKDI51_7"
      }
    },
    {
      "cell_type": "markdown",
      "source": [
        "**Contexto**\n",
        "\n",
        "Estás colaborando en el diseño de un sistema básico de autenticación y validación de datos para una empresa tecnológica en expansión. El sistema debe realizar verificaciones fundamentales sobre usuarios, contraseñas, códigos de acceso e identificadores, utilizando únicamente estructuras condicionales y operaciones básicas, dado que el prototipo está pensado para funcionar en dispositivos con capacidad de cómputo muy limitada.\n",
        "\n",
        "Cada pregunta del examen representa uno de los desafíos que debes resolver en este sistema: desde validar un código, clasificar niveles de acceso, hasta verificar si una entrada cumple con múltiples criterios simultáneamente."
      ],
      "metadata": {
        "id": "qphDGB6eAe-K"
      }
    },
    {
      "cell_type": "markdown",
      "source": [
        "\n",
        "\n",
        "**Nombre y Apellido:**\n",
        "\n",
        "Yessenia Chirinos Toranzo\n"
      ],
      "metadata": {
        "id": "_MYFZY5D97r5"
      }
    },
    {
      "cell_type": "markdown",
      "source": [
        "Duración: 45 minutos\n",
        "\n",
        "**Instrucciones**\n",
        "\n",
        "1. No está permitido el uso de funciones (def), bucles (for, while)\n",
        "\n",
        "2. Puedes utilizar:\n",
        "\n",
        "  * Asignación de variables\n",
        "  * Operadores aritméticos y lógicos\n",
        "  * Condicionales (if, elif, else)\n",
        "  * Funciones input() y print()\n",
        "\n",
        "3. Se evaluará no solo la respuesta correcta, sino también la claridad, buenas prácticas, uso correcto de tipos de datos y estructura lógica.\n",
        "\n",
        "---"
      ],
      "metadata": {
        "id": "VInsS6-u7MUH"
      }
    },
    {
      "cell_type": "markdown",
      "source": [
        "**Pregunta 1: Validación de Usuario**\n"
      ],
      "metadata": {
        "id": "xVGPY6H68IO_"
      }
    },
    {
      "cell_type": "markdown",
      "source": [
        "Escribe un programa que valide un usuario según estas reglas:\n",
        "\n",
        "* El usuario debe tener exactamente 5 caracteres.\n",
        "* El primer carácter debe ser mayúscula.\n",
        "* El último carácter debe ser un número.\n",
        "\n",
        "Imprime \"Usuario válido\" o \"Usuario inválido\" según corresponda."
      ],
      "metadata": {
        "id": "2mSAVboy8Q6m"
      }
    },
    {
      "cell_type": "code",
      "execution_count": 6,
      "metadata": {
        "id": "mOSniL8V5jR4",
        "colab": {
          "base_uri": "https://localhost:8080/"
        },
        "outputId": "ba55b53d-5854-468a-ed8f-3a4acf513e7b"
      },
      "outputs": [
        {
          "output_type": "stream",
          "name": "stdout",
          "text": [
            "A12b4\n",
            "Usuario válido\n"
          ]
        }
      ],
      "source": [
        "# Your code starts here\n",
        "# user_example: usuario = \"A12b4\"\n",
        "\n",
        "# Solicitar el nombre de usuario con manejo de entrada vacía\n",
        "try:\n",
        "    usuario = input()\n",
        "except EOFError:\n",
        "    usuario = \" \"\n",
        "\n",
        "# Validar longitud de 5 caracteres\n",
        "es_longitud_valida = len(usuario) == 5\n",
        "\n",
        "# Validar primer carácter en mayúscula\n",
        "es_primera_mayuscula = usuario[0].isupper()\n",
        "\n",
        "# Validar último carácter como número\n",
        "es_ultimo_numero = usuario[-1].isdigit()\n",
        "\n",
        "# Combinar todas las validaciones\n",
        "es_usuario_valido = es_longitud_valida and es_primera_mayuscula and es_ultimo_numero\n",
        "\n",
        "# Imprimir resultado según validación\n",
        "mensaje = \"Usuario válido\" if es_usuario_valido else \"Usuario inválido\"\n",
        "print(mensaje)\n",
        "\n",
        "# Your code ends here"
      ]
    },
    {
      "cell_type": "markdown",
      "source": [
        "**Pregunta 2: Nivel de Seguridad Numérico**\n",
        "\n",
        "Pide tres dígitos separados al usuario usando input(). Luego:\n",
        "\n",
        "* Imprime \"ALTO\" si los tres dígitos son diferentes.\n",
        "* Imprime \"MEDIO\" si solo dos son iguales.\n",
        "* Imprime \"BAJO\" si los tres son iguales."
      ],
      "metadata": {
        "id": "ZI1HrCRe8uU6"
      }
    },
    {
      "cell_type": "code",
      "source": [
        "# Your code starts here\n",
        "\n",
        "# Solicitar los tres dígitos al usuario\n",
        "digito1 = input(\"Ingresa el primer dígito: \")\n",
        "digito2 = input(\"Ingresa el segundo dígito: \")\n",
        "digito3 = input(\"Ingresa el tercer dígito: \")\n",
        "\n",
        "# Evaluar el nivel de seguridad\n",
        "if digito1 == digito2 and digito2 == digito3:\n",
        "    print(\"BAJO\")\n",
        "elif digito1 == digito2 or digito1 == digito3 or digito2 == digito3:\n",
        "    print(\"MEDIO\")\n",
        "else:\n",
        "    print(\"ALTO\")\n",
        "\n",
        "# Your code ends here"
      ],
      "metadata": {
        "id": "hEUnfNCK88lF",
        "colab": {
          "base_uri": "https://localhost:8080/"
        },
        "outputId": "1b19577c-af7c-43d8-c21e-f375554aa225"
      },
      "execution_count": 15,
      "outputs": [
        {
          "output_type": "stream",
          "name": "stdout",
          "text": [
            "Ingresa el primer dígito: 1\n",
            "Ingresa el segundo dígito: 2\n",
            "Ingresa el tercer dígito: 3\n",
            "ALTO\n"
          ]
        }
      ]
    },
    {
      "cell_type": "markdown",
      "source": [
        "**Pregunta 3: Código de Acceso**\n",
        "\n",
        "Pide al usuario ingresar un número entero de tres dígitos.\n",
        "Verifica si la suma de sus tres dígitos es exactamente 10:\n",
        "\n",
        "* Si lo es, imprime \"Código válido\".\n",
        "* Si no, imprime \"Código inválido\"."
      ],
      "metadata": {
        "id": "DaAUaft_9DMe"
      }
    },
    {
      "cell_type": "code",
      "source": [
        "# Your code starts here\n",
        "\n",
        "# Solicite al usuario un número entero de tres dígitos\n",
        "numero = input(\"Ingresa un número entero de tres dígitos: \")\n",
        "\n",
        "# Obtiene cada dígito individual como entero\n",
        "digito1 = int(numero[0])\n",
        "digito2 = int(numero[1])\n",
        "digito3 = int(numero[2])\n",
        "\n",
        "# Calcula la suma de los tres dígitos\n",
        "suma = digito1 + digito2 + digito3\n",
        "\n",
        "# Verifica si la suma es igual a 10\n",
        "if suma == 10:\n",
        "    print(\"Código válido\")\n",
        "else:\n",
        "    print(\"Código inválido\")\n",
        "\n",
        "# Your code ends here"
      ],
      "metadata": {
        "id": "Xa15jei89HaU",
        "colab": {
          "base_uri": "https://localhost:8080/"
        },
        "outputId": "b8ae44ac-0382-4fe5-ac58-abb07fd00152"
      },
      "execution_count": 18,
      "outputs": [
        {
          "output_type": "stream",
          "name": "stdout",
          "text": [
            "Ingresa un número entero de tres dígitos: 100\n",
            "Código inválido\n"
          ]
        }
      ]
    },
    {
      "cell_type": "markdown",
      "source": [
        "**Pregunta 4: Identificador de carácter**\n",
        "\n",
        "Pide al usuario un solo carácter y determina:\n",
        "\n",
        "* Si es vocal minúscula → \"Vocal minúscula\"\n",
        "* Si es vocal mayúscula → \"Vocal MAYÚSCULA\"\n",
        "* Si es número → \"Número\"\n",
        "* En cualquier otro caso → \"Símbolo especial\""
      ],
      "metadata": {
        "id": "zHCprzaP9fpB"
      }
    },
    {
      "cell_type": "code",
      "source": [
        "# Your code starts here\n",
        "\n",
        "# Solicite un solo carácter al usuario\n",
        "caracter = input(\"Ingresa un solo carácter: \")\n",
        "\n",
        "# Evaluar el tipo de carácter ingresado\n",
        "if caracter == 'a' or caracter == 'e' or caracter == 'i' or caracter == 'o' or caracter == 'u':\n",
        "    print(\"Vocal minúscula\")\n",
        "elif caracter == 'A' or caracter == 'E' or caracter == 'I' or caracter == 'O' or caracter == 'U':\n",
        "    print(\"Vocal MAYÚSCULA\")\n",
        "elif caracter >= '0' and caracter <= '9':\n",
        "    print(\"Número\")\n",
        "else:\n",
        "    print(\"Símbolo especial\")\n",
        "\n",
        "\n",
        "# Your code ends here"
      ],
      "metadata": {
        "id": "OvCpLVUT92uZ",
        "colab": {
          "base_uri": "https://localhost:8080/"
        },
        "outputId": "490726a1-4fb1-42f9-b78d-aca6ff10d130"
      },
      "execution_count": 20,
      "outputs": [
        {
          "output_type": "stream",
          "name": "stdout",
          "text": [
            "Ingresa un solo carácter: %\n",
            "Símbolo especial\n"
          ]
        }
      ]
    },
    {
      "cell_type": "markdown",
      "source": [
        "**Pregunta 5: Verificación cruzada de identidad**\n",
        "\n",
        "Un sistema de validación recibe los siguientes tres datos como entrada:\n",
        "\n",
        "\n",
        "1. Un código de 6 caracteres (ej. \"A1b2C3\")\n",
        "2. Un número de 3 cifras (ej. 528)\n",
        "3. Una letra (ej. \"b\")\n",
        "\n",
        "El programa debe:\n",
        "\n",
        "* Verificar si:\n",
        "\n",
        "  1. El primer carácter del código es una letra mayúscula,\n",
        "  2. El último carácter del código es un número,\n",
        "  3. La suma de los tres dígitos del número es par, y\n",
        "  4. La letra ingresada se encuentra dentro del código sin distinguir mayúsculas/minúsculas.\n",
        "\n",
        "* Si todas las condiciones se cumplen, imprimir: \"Identidad verificada\"\n",
        "\n",
        "* Si alguna no se cumple, imprimir: \"Acceso denegado\""
      ],
      "metadata": {
        "id": "FJyAxh0I-0N8"
      }
    },
    {
      "cell_type": "code",
      "source": [
        "# Your code starts here\n",
        "\n",
        "# Solicitar los tres datos al usuario\n",
        "codigo = input(\"Ingresa el código de 6 caracteres: \")\n",
        "numero = input(\"Ingresa un número de 3 cifras: \")\n",
        "letra = input(\"Ingresa una letra: \")\n",
        "\n",
        "# Verificar que el primer carácter del código sea una letra mayúscula\n",
        "condicion1 = codigo[0] >= 'A' and codigo[0] <= 'Z'\n",
        "\n",
        "# Verificar que el último carácter del código sea un número\n",
        "condicion2 = codigo[5] >= '0' and codigo[5] <= '9'\n",
        "\n",
        "# Obtener los dígitos individuales del número y calcular la suma\n",
        "dig1 = int(numero[0])\n",
        "dig2 = int(numero[1])\n",
        "dig3 = int(numero[2])\n",
        "suma = dig1 + dig2 + dig3\n",
        "\n",
        "# Verificar si la suma es par\n",
        "condicion3 = suma % 2 == 0\n",
        "\n",
        "# Verificar si la letra ingresada está dentro del código (sin distinguir mayúsculas)\n",
        "letra_minus = letra.lower()\n",
        "codigo_minus = codigo.lower()\n",
        "condicion4 = letra_minus == codigo_minus[0] or letra_minus == codigo_minus[1] or letra_minus == codigo_minus[2] or letra_minus == codigo_minus[3] or letra_minus == codigo_minus[4] or letra_minus == codigo_minus[5]\n",
        "\n",
        "# Evaluar todas las condiciones\n",
        "if condicion1 and condicion2 and condicion3 and condicion4:\n",
        "    print(\"Identidad verificada\")\n",
        "else:\n",
        "    print(\"Acceso denegado\")\n",
        "\n",
        "\n",
        "# Your code ends here"
      ],
      "metadata": {
        "id": "Z16sSPRc_TDH",
        "colab": {
          "base_uri": "https://localhost:8080/"
        },
        "outputId": "43002bf4-7caa-45f1-881d-93bf39ed0bf7"
      },
      "execution_count": 21,
      "outputs": [
        {
          "output_type": "stream",
          "name": "stdout",
          "text": [
            "Ingresa el código de 6 caracteres: ab4ds3\n",
            "Ingresa un número de 3 cifras: 123\n",
            "Ingresa una letra: A\n",
            "Acceso denegado\n"
          ]
        }
      ]
    },
    {
      "cell_type": "markdown",
      "source": [
        "---\n",
        "\n",
        "### Gracias por completar este examen!\n",
        "\n",
        "---\n"
      ],
      "metadata": {
        "id": "vWNdqa91-NiX"
      }
    }
  ]
}