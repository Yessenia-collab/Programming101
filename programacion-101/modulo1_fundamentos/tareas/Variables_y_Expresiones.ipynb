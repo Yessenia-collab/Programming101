{
  "nbformat": 4,
  "nbformat_minor": 0,
  "metadata": {
    "colab": {
      "provenance": [],
      "include_colab_link": true
    },
    "kernelspec": {
      "name": "python3",
      "display_name": "Python 3"
    },
    "language_info": {
      "name": "python"
    }
  },
  "cells": [
    {
      "cell_type": "markdown",
      "metadata": {
        "id": "view-in-github",
        "colab_type": "text"
      },
      "source": [
        "<a href=\"https://colab.research.google.com/github/Yessenia-collab/Programming101/blob/main/programacion-101/modulo1_fundamentos/tareas/Variables_y_Expresiones.ipynb\" target=\"_parent\"><img src=\"https://colab.research.google.com/assets/colab-badge.svg\" alt=\"Open In Colab\"/></a>"
      ]
    },
    {
      "cell_type": "markdown",
      "source": [
        "<img src=\"https://posgrado.utec.edu.pe/sites/default/files/2023-08/Testimonial-home-2.jpg\" alt=\"HTML5 Icon\" width=\"900\" height=\"250\" >\n"
      ],
      "metadata": {
        "id": "cqadFmlrgAXp"
      }
    },
    {
      "cell_type": "markdown",
      "source": [
        "# **Ejercicios - Variables y Expresiones**"
      ],
      "metadata": {
        "id": "tW1-ULBmb0Cm"
      }
    },
    {
      "cell_type": "markdown",
      "source": [
        "**Ejercicio 1: Calculadora de ahorro semanal**\n",
        "\n",
        "Pide al usuario cuánto dinero ahorra cada día de lunes a domingo. Al final, muestra cuánto ahorró en total esa semana y cuánto tendría en un mes si repite el mismo patrón cada semana.\n",
        "\n",
        "- Pista: Usar 7 variables (ahorro_lunes, ahorro_martes, …), input(), float(), +, *."
      ],
      "metadata": {
        "id": "9igzfvIKqNGr"
      }
    },
    {
      "cell_type": "code",
      "source": [
        "## INICIO DE CÓDIGO\n",
        "# Programa para calcular el ahorro semanal\n",
        "print(\"Calculadora de Ahorro Semanal\")\n",
        "print(\"Ingresa el monto ahorrado cada día (en tu moneda local):\")\n",
        "\n",
        "# Lista de días de la semana\n",
        "dias = [\"Lunes\", \"Martes\", \"Miércoles\", \"Jueves\", \"Viernes\", \"Sábado\", \"Domingo\"]\n",
        "ahorros = []\n",
        "\n",
        "# Solicitar el ahorro diario\n",
        "for dia in dias:\n",
        "    while True:\n",
        "        try:\n",
        "            monto = float(input(f\"¿Cuánto ahorraste el {dia}? \"))\n",
        "            if monto < 0:\n",
        "                print(\"El monto no puede ser negativo. Intenta de nuevo.\")\n",
        "            else:\n",
        "                ahorros.append(monto)\n",
        "                break\n",
        "        except ValueError:\n",
        "            print(\"Por favor, ingresa un número válido.\")\n",
        "\n",
        "# Calcular el total semanal\n",
        "total_semanal = sum(ahorros)\n",
        "\n",
        "# Mostrar los resultados\n",
        "print(\"\\nResumen de tus ahorros:\")\n",
        "for i in range(len(dias)):\n",
        "    print(f\"{dias[i]}: {ahorros[i]}\")\n",
        "print(f\"\\nTotal ahorrado en la semana: {total_semanal}\")\n",
        "\n",
        "# Pausa para ver los resultados\n",
        "input(\"Presione Enter para salir...\")\n",
        "\n",
        "## FIN DE CÓDIGO"
      ],
      "metadata": {
        "id": "BX-O1-4wqWF9"
      },
      "execution_count": null,
      "outputs": []
    },
    {
      "cell_type": "markdown",
      "source": [
        "**Ejercicio 2: Conversor de segundos**\n",
        "\n",
        "Solicita una cantidad total de segundos y muestra cuántos minutos y segundos representa.\n",
        "\n",
        "Ejemplo: 130 segundos → 2 minutos y 10 segundos\n",
        "* Pista: Usar // y %\n"
      ],
      "metadata": {
        "id": "oLaw6UggqV3E"
      }
    },
    {
      "cell_type": "code",
      "source": [
        "## INICIO DE CÓDIGO\n",
        "\n",
        "# Conversor de segundos a minutos y segundos\n",
        "print(\"Conversor de Segundos a Minutos y Segundos\")\n",
        "\n",
        "while True:\n",
        "    try:\n",
        "        total_segundos = int(input(\"Ingrese la cantidad total de segundos: \"))\n",
        "        if total_segundos < 0:\n",
        "            print(\"Los segundos no pueden ser negativos. Intenta de nuevo.\")\n",
        "        else:\n",
        "            break\n",
        "    except ValueError:\n",
        "        print(\"Por favor, ingresa un número entero válido.\")\n",
        "\n",
        "# Calcular minutos y segundos\n",
        "minutos = total_segundos // 60  # División entera para obtener minutos\n",
        "segundos = total_segundos % 60   # Módulo para obtener segundos restantes\n",
        "\n",
        "# Mostrar el resultado\n",
        "print(f\"\\n{total_segundos} segundos equivalen a {minutos} minutos y {segundos} segundos\")\n",
        "\n",
        "# Pausa para ver el resultado\n",
        "input(\"Presione Enter para salir...\")\n",
        "\n",
        "## FIN DE CÓDIGO"
      ],
      "metadata": {
        "id": "bAuxBROrqaWb"
      },
      "execution_count": null,
      "outputs": []
    },
    {
      "cell_type": "markdown",
      "source": [
        "**Ejercicio 3: Puntuación de juego**\n",
        "\n",
        "Un videojuego otorga:\n",
        "\n",
        "* 10 puntos por cada estrella recolectada,\n",
        "* 50 puntos por cada gema recolectada, y\n",
        "* 1 punto por cada segundo que el jugador se mantuvo vivo.\n",
        "\n",
        "Pide al usuario las tres cantidades y muestra su puntaje total.\n",
        "\n",
        "* Pista: total = estrellas*10 + gemas*50 + tiempo"
      ],
      "metadata": {
        "id": "dK4EIGoKrW2B"
      }
    },
    {
      "cell_type": "code",
      "source": [
        "## INICIO DE CÓDIGO\n",
        "\n",
        "# Calculadora de puntuación de juego\n",
        "print(\"Calculadora de Puntuación de Juego\")\n",
        "print(\"Ingresa los datos para calcular tu puntaje:\")\n",
        "\n",
        "# Solicitar cantidad de estrellas\n",
        "while True:\n",
        "    try:\n",
        "        estrellas = int(input(\"¿Cuántas estrellas recolectaste? \"))\n",
        "        if estrellas < 0:\n",
        "            print(\"La cantidad de estrellas no puede ser negativa. Intenta de nuevo.\")\n",
        "        else:\n",
        "            break\n",
        "    except ValueError:\n",
        "        print(\"Por favor, ingresa un número entero válido.\")\n",
        "\n",
        "# Solicitar cantidad de gemas\n",
        "while True:\n",
        "    try:\n",
        "        gemas = int(input(\"¿Cuántas gemas recolectaste? \"))\n",
        "        if gemas < 0:\n",
        "            print(\"La cantidad de gemas no puede ser negativa. Intenta de nuevo.\")\n",
        "        else:\n",
        "            break\n",
        "    except ValueError:\n",
        "        print(\"Por favor, ingresa un número entero válido.\")\n",
        "\n",
        "# Solicitar tiempo en segundos\n",
        "while True:\n",
        "    try:\n",
        "        tiempo = int(input(\"¿Cuántos segundos te mantuviste vivo? \"))\n",
        "        if tiempo < 0:\n",
        "            print(\"El tiempo no puede ser negativo. Intenta de nuevo.\")\n",
        "        else:\n",
        "            break\n",
        "    except ValueError:\n",
        "        print(\"Por favor, ingresa un número entero válido.\")\n",
        "\n",
        "# Calcular el puntaje total\n",
        "total = (estrellas * 10) + (gemas * 50) + (tiempo * 1)\n",
        "\n",
        "# Mostrar el resultado\n",
        "print(\"\\nResultado:\")\n",
        "print(f\"Estrellas recolectadas: {estrellas} x 10 = {estrellas * 10} puntos\")\n",
        "print(f\"Gemas recolectadas: {gemas} x 50 = {gemas * 50} puntos\")\n",
        "print(f\"Tiempo sobrevivido: {tiempo} x 1 = {tiempo} puntos\")\n",
        "print(f\"Puntaje total: {total} puntos\")\n",
        "\n",
        "# Pausa para ver el resultado\n",
        "input(\"Presione Enter para salir...\")\n",
        "\n",
        "## FIN DE CÓDIGO"
      ],
      "metadata": {
        "id": "jkBQHQF1rlUY"
      },
      "execution_count": null,
      "outputs": []
    },
    {
      "cell_type": "markdown",
      "source": [
        "**Ejercicio 4: Conversor de monedas con tasa personalizada**\n",
        "\n",
        "Solicita al usuario:\n",
        "\n",
        "* El monto en soles\n",
        "* La tasa de cambio a dólares\n",
        "\n",
        "Muestra el equivalente en dólares, redondeado a 2 decimales.\n",
        "\n",
        "* Pista: Usar float(), *, round(valor, 2)"
      ],
      "metadata": {
        "id": "wW9Edl_8rlt1"
      }
    },
    {
      "cell_type": "code",
      "source": [
        "## INICIO DE CÓDIGO\n",
        "\n",
        "# Conversor de soles a dólares con tasa personalizada\n",
        "print(\"Conversor de Soles a Dólares\")\n",
        "\n",
        "# Solicitar el monto en soles\n",
        "while True:\n",
        "    try:\n",
        "        soles = float(input(\"Ingrese el monto en soles: S/ \"))\n",
        "        if soles < 0:\n",
        "            print(\"El monto no puede ser negativo. Intenta de nuevo.\")\n",
        "        else:\n",
        "            break\n",
        "    except ValueError:\n",
        "        print(\"Por favor, ingresa un número válido.\")\n",
        "\n",
        "# Solicitar la tasa de cambio\n",
        "while True:\n",
        "    try:\n",
        "        tasa_cambio = float(input(\"Ingrese la tasa de cambio (soles por dólar): \"))\n",
        "        if tasa_cambio <= 0:\n",
        "            print(\"La tasa de cambio debe ser mayor que cero. Intenta de nuevo.\")\n",
        "        else:\n",
        "            break\n",
        "    except ValueError:\n",
        "        print(\"Por favor, ingresa un número válido.\")\n",
        "\n",
        "# Calcular el equivalente en dólares\n",
        "dolares = soles / tasa_cambio\n",
        "\n",
        "# Redondear a 2 decimales\n",
        "dolares_redondeado = round(dolares, 2)\n",
        "\n",
        "# Mostrar el resultado\n",
        "print(f\"\\nS/ {soles:.2f} soles equivalen a $ {dolares_redondeado:.2f} dólares\")\n",
        "print(f\"(Tasa de cambio: {tasa_cambio} soles por dólar)\")\n",
        "\n",
        "# Pausa para ver el resultado\n",
        "input(\"Presione Enter para salir...\")\n",
        "\n",
        "## FIN DE CÓDIGO"
      ],
      "metadata": {
        "id": "fTCsCohHrmQW"
      },
      "execution_count": null,
      "outputs": []
    },
    {
      "cell_type": "markdown",
      "source": [
        "**Ejercicio 5: Costo compartido de viaje**\n",
        "\n",
        "Tres amigos hacen un viaje y pagan distintos montos:\n",
        "\n",
        "* Ana pagó gasolina,\n",
        "* Luis pagó peajes,\n",
        "* Carla pagó comida.\n",
        "\n",
        "Pide los tres montos, calcula el total y cuánto debería aportar cada uno para que paguen igual.\n",
        "\n",
        "* Pista: Calcular el total y luego dividirlo entre 3"
      ],
      "metadata": {
        "id": "JYUyJAidrmnT"
      }
    },
    {
      "cell_type": "code",
      "source": [
        "## INICIO DE CÓDIGO\n",
        "\n",
        "# Calculadora de costo compartido de viaje\n",
        "print(\"Calculadora de Costo Compartido de Viaje\")\n",
        "print(\"Ingresa los montos pagados por cada amigo:\")\n",
        "\n",
        "# Solicitar el monto pagado por Ana (gasolina)\n",
        "while True:\n",
        "    try:\n",
        "        gasolina = float(input(\"¿Cuánto pagó Ana por la gasolina? S/ \"))\n",
        "        if gasolina < 0:\n",
        "            print(\"El monto no puede ser negativo. Intenta de nuevo.\")\n",
        "        else:\n",
        "            break\n",
        "    except ValueError:\n",
        "        print(\"Por favor, ingresa un número válido.\")\n",
        "\n",
        "# Solicitar el monto pagado por Luis (peajes)\n",
        "while True:\n",
        "    try:\n",
        "        peajes = float(input(\"¿Cuánto pagó Luis por los peajes? S/ \"))\n",
        "        if peajes < 0:\n",
        "            print(\"El monto no puede ser negativo. Intenta de nuevo.\")\n",
        "        else:\n",
        "            break\n",
        "    except ValueError:\n",
        "        print(\"Por favor, ingresa un número válido.\")\n",
        "\n",
        "# Solicitar el monto pagado por Carla (comida)\n",
        "while True:\n",
        "    try:\n",
        "        comida = float(input(\"¿Cuánto pagó Carla por la comida? S/ \"))\n",
        "        if comida < 0:\n",
        "            print(\"El monto no puede ser negativo. Intenta de nuevo.\")\n",
        "        else:\n",
        "            break\n",
        "    except ValueError:\n",
        "        print(\"Por favor, ingresa un número válido.\")\n",
        "\n",
        "# Calcular el costo total\n",
        "total = gasolina + peajes + comida\n",
        "\n",
        "# Calcular cuánto debe aportar cada uno\n",
        "aporte_por_persona = total / 3\n",
        "\n",
        "# Mostrar los resultados\n",
        "print(\"\\nResumen del viaje:\")\n",
        "print(f\"Gasolina (Ana): S/ {gasolina:.2f}\")\n",
        "print(f\"Peajes (Luis): S/ {peajes:.2f}\")\n",
        "print(f\"Comida (Carla): S/ {comida:.2f}\")\n",
        "print(f\"Costo total: S/ {total:.2f}\")\n",
        "print(f\"Cada uno debe aportar: S/ {aporte_por_persona:.2f}\")\n",
        "\n",
        "# Pausa para ver el resultado\n",
        "input(\"Presione Enter para salir...\")\n",
        "\n",
        "## FIN DE CÓDIGO"
      ],
      "metadata": {
        "id": "SGjH-m_mrom9"
      },
      "execution_count": null,
      "outputs": []
    },
    {
      "cell_type": "markdown",
      "source": [
        "**Ejercicio 6: Tiempo total de estudio**\n",
        "\n",
        "Solicita al usuario cuántas horas estudió en 4 materias distintas.\n",
        "\n",
        "Muestra el total de horas de estudio en la semana y el promedio diario (considerando 7 días).\n"
      ],
      "metadata": {
        "id": "skhBiCaCro5l"
      }
    },
    {
      "cell_type": "code",
      "source": [
        "## INICIO DE CÓDIGO\n",
        "\n",
        "# Calculadora de tiempo total de estudio\n",
        "print(\"Calculadora de Tiempo de Estudio Semanal\")\n",
        "print(\"Ingresa las horas estudiadas por cada materia:\")\n",
        "\n",
        "# Lista de materias (puedes personalizar los nombres)\n",
        "materias = [\"Materia 1\", \"Materia 2\", \"Materia 3\", \"Materia 4\"]\n",
        "horas = []\n",
        "\n",
        "# Solicitar horas estudiadas por cada materia\n",
        "for materia in materias:\n",
        "    while True:\n",
        "        try:\n",
        "            horas_materia = float(input(f\"¿Cuántas horas estudiaste en {materia}? \"))\n",
        "            if horas_materia < 0:\n",
        "                print(\"Las horas no pueden ser negativas. Intenta de nuevo.\")\n",
        "            else:\n",
        "                horas.append(horas_materia)\n",
        "                break\n",
        "        except ValueError:\n",
        "            print(\"Por favor, ingresa un número válido.\")\n",
        "\n",
        "# Calcular el total de horas\n",
        "total_horas = sum(horas)\n",
        "\n",
        "# Calcular el promedio diario (7 días)\n",
        "promedio_diario = total_horas / 7\n",
        "\n",
        "# Mostrar los resultados\n",
        "print(\"\\nResumen de Estudio Semanal:\")\n",
        "for i in range(len(materias)):\n",
        "    print(f\"{materias[i]}: {horas[i]:.2f} horas\")\n",
        "print(f\"\\nTotal de horas estudiadas en la semana: {total_horas:.2f} horas\")\n",
        "print(f\"Promedio diario de estudio: {promedio_diario:.2f} horas por día\")\n",
        "\n",
        "# Pausa para ver el resultado\n",
        "input(\"Presione Enter para salir...\")\n",
        "\n",
        "## FIN DE CÓDIGO"
      ],
      "metadata": {
        "id": "HnFuV1RPrqXQ"
      },
      "execution_count": null,
      "outputs": []
    },
    {
      "cell_type": "markdown",
      "source": [
        "**Ejercicio 7: Nombre codificado (nivel string)**\n",
        "\n",
        "Pide al usuario su nombre completo y muestra:\n",
        "\n",
        "* La cantidad de caracteres (con len())\n",
        "* Su nombre todo en mayúsculas (.upper())\n",
        "* Su nombre todo en minúsculas (.lower())\n"
      ],
      "metadata": {
        "id": "rNjtOXKWrqs5"
      }
    },
    {
      "cell_type": "code",
      "source": [
        "## INICIO DE CÓDIGO\n",
        "\n",
        "# Programa para procesar el nombre completo\n",
        "print(\"Procesador de Nombre Completo\")\n",
        "\n",
        "# Solicitar el nombre completo\n",
        "nombre = input(\"Ingrese su nombre completo: \")\n",
        "\n",
        "# Validar que el nombre no esté vacío\n",
        "if nombre.strip() == \"\":\n",
        "    print(\"Error: El nombre no puede estar vacío.\")\n",
        "else:\n",
        "    # Calcular la cantidad de caracteres\n",
        "    cantidad_caracteres = len(nombre)\n",
        "\n",
        "    # Convertir a mayúsculas\n",
        "    nombre_mayusculas = nombre.upper()\n",
        "\n",
        "    # Convertir a minúsculas\n",
        "    nombre_minusculas = nombre.lower()\n",
        "\n",
        "    # Mostrar los resultados\n",
        "    print(\"\\nResultados:\")\n",
        "    print(f\"Cantidad de caracteres: {cantidad_caracteres}\")\n",
        "    print(f\"Nombre en mayúsculas: {nombre_mayusculas}\")\n",
        "    print(f\"Nombre en minúsculas: {nombre_minusculas}\")\n",
        "\n",
        "# Pausa para ver el resultado\n",
        "input(\"Presione Enter para salir...\")\n",
        "\n",
        "## FIN DE CÓDIGO"
      ],
      "metadata": {
        "id": "GnGm74GXrsL0"
      },
      "execution_count": null,
      "outputs": []
    },
    {
      "cell_type": "markdown",
      "source": [
        "**Ejercicio 8: Frase repetida**\n",
        "\n",
        "Pide una frase y un número n, y muestra la frase repetida n veces, cada una en una línea.\n",
        "\n",
        "* Pista: print(frase * n)  # y/o con '\\n'"
      ],
      "metadata": {
        "id": "lrhPyjmWrse2"
      }
    },
    {
      "cell_type": "code",
      "source": [
        "## INICIO DE CÓDIGO\n",
        "\n",
        "# Programa para repetir una frase n veces\n",
        "print(\"Repetidor de Frases\")\n",
        "\n",
        "# Solicitar la frase\n",
        "frase = input(\"Ingrese una frase: \")\n",
        "\n",
        "# Validar que la frase no esté vacía\n",
        "if frase.strip() == \"\":\n",
        "    print(\"Error: La frase no puede estar vacía.\")\n",
        "else:\n",
        "    # Solicitar el número de repeticiones\n",
        "    while True:\n",
        "        try:\n",
        "            n = int(input(\"¿Cuántas veces quieres repetir la frase? \"))\n",
        "            if n <= 0:\n",
        "                print(\"El número debe ser mayor que cero. Intenta de nuevo.\")\n",
        "            else:\n",
        "                break\n",
        "        except ValueError:\n",
        "            print(\"Por favor, ingresa un número entero válido.\")\n",
        "\n",
        "    # Mostrar la frase repetida n veces, cada una en una línea\n",
        "    print(\"\\nResultado:\")\n",
        "    for _ in range(n):\n",
        "        print(frase)\n",
        "\n",
        "# Pausa para ver el resultado\n",
        "input(\"Presione Enter para salir...\")\n",
        "\n",
        "## FIN DE CÓDIGO"
      ],
      "metadata": {
        "id": "Vzef3t_Lru0p"
      },
      "execution_count": null,
      "outputs": []
    },
    {
      "cell_type": "markdown",
      "source": [
        "**Ejercicio 9: División de cuentas**\n",
        "\n",
        "Un grupo de amigos pide una cuenta por S/ 250.\n",
        "Pide al usuario cuántas personas están en el grupo y muestra cuánto debe pagar cada uno.\n",
        "\n",
        "Asegúrate de redondear el resultado a 2 decimales.\n",
        "\n",
        "* Pista: Usa la funcion round()"
      ],
      "metadata": {
        "id": "5NpbbGR_rvNH"
      }
    },
    {
      "cell_type": "code",
      "source": [
        "## INICIO DE CÓDIGO\n",
        "\n",
        "# Calculadora de división de cuentas\n",
        "print(\"División de Cuenta entre Amigos\")\n",
        "print(\"La cuenta total es S/ 250\")\n",
        "\n",
        "# Solicitar la cantidad de personas\n",
        "while True:\n",
        "    try:\n",
        "        personas = int(input(\"¿Cuántas personas están en el grupo? \"))\n",
        "        if personas <= 0:\n",
        "            print(\"El número de personas debe ser mayor que cero. Intenta de nuevo.\")\n",
        "        else:\n",
        "            break\n",
        "    except ValueError:\n",
        "        print(\"Por favor, ingresa un número entero válido.\")\n",
        "\n",
        "# Calcular el monto por persona\n",
        "cuenta_total = 250\n",
        "monto_por_persona = cuenta_total / personas\n",
        "\n",
        "# Redondear a 2 decimales\n",
        "monto_redondeado = round(monto_por_persona, 2)\n",
        "\n",
        "# Mostrar el resultado\n",
        "print(f\"\\nResultado:\")\n",
        "print(f\"Cuenta total: S/ {cuenta_total:.2f}\")\n",
        "print(f\"Número de personas: {personas}\")\n",
        "print(f\"Cada persona debe pagar: S/ {monto_redondeado:.2f}\")\n",
        "\n",
        "# Pausa para ver el resultado\n",
        "input(\"Presione Enter para salir...\")\n",
        "\n",
        "## FIN DE CÓDIGO"
      ],
      "metadata": {
        "id": "uMxuVCUVrvj6"
      },
      "execution_count": null,
      "outputs": []
    },
    {
      "cell_type": "markdown",
      "source": [
        "**Ejercicio 10: Calendario de clases**\n",
        "\n",
        "Pide cuántas horas se estudia en promedio por día, y cuántos días tiene el mes.\n",
        "\n",
        "Calcula cuántas horas de estudio habrá ese mes."
      ],
      "metadata": {
        "id": "p3PYp0l4pxuI"
      }
    },
    {
      "cell_type": "code",
      "source": [
        "## INICIO DE CÓDIGO\n",
        "\n",
        "# Calculadora de horas de estudio mensuales\n",
        "print(\"Calculadora de Calendario de Clases\")\n",
        "\n",
        "# Solicitar horas promedio por día\n",
        "while True:\n",
        "    try:\n",
        "        horas_por_dia = float(input(\"¿Cuántas horas estudias en promedio por día? \"))\n",
        "        if horas_por_dia < 0:\n",
        "            print(\"Las horas no pueden ser negativas. Intenta de nuevo.\")\n",
        "        else:\n",
        "            break\n",
        "    except ValueError:\n",
        "        print(\"Por favor, ingresa un número válido.\")\n",
        "\n",
        "# Solicitar cantidad de días en el mes\n",
        "while True:\n",
        "    try:\n",
        "        dias_mes = int(input(\"¿Cuántos días tiene el mes? \"))\n",
        "        if dias_mes <= 0:\n",
        "            print(\"El número de días debe ser mayor que cero. Intenta de nuevo.\")\n",
        "        else:\n",
        "            break\n",
        "    except ValueError:\n",
        "        print(\"Por favor, ingresa un número entero válido.\")\n",
        "\n",
        "# Calcular total de horas de estudio en el mes\n",
        "total_horas = horas_por_dia * dias_mes\n",
        "\n",
        "# Mostrar el resultado\n",
        "print(\"\\nResultado:\")\n",
        "print(f\"Horas promedio por día: {horas_por_dia:.2f} horas\")\n",
        "print(f\"Días en el mes: {dias_mes}\")\n",
        "print(f\"Total de horas de estudio en el mes: {total_horas:.2f} horas\")\n",
        "\n",
        "# Pausa para ver el resultado\n",
        "input(\"Presione Enter para salir...\")\n",
        "\n",
        "## FIN DE CÓDIGO"
      ],
      "metadata": {
        "id": "y1bXFffhrxk2"
      },
      "execution_count": null,
      "outputs": []
    },
    {
      "cell_type": "markdown",
      "source": [
        "---\n",
        "\n",
        "# Gracias por completar este laboratorio!\n",
        "\n",
        "---\n"
      ],
      "metadata": {
        "id": "8_ZocYoOrx3Z"
      }
    }
  ]
}