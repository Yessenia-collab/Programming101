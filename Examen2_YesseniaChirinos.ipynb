{
  "nbformat": 4,
  "nbformat_minor": 0,
  "metadata": {
    "colab": {
      "provenance": [],
      "authorship_tag": "ABX9TyM2iqgtezmsBljYOwcGImWT",
      "include_colab_link": true
    },
    "kernelspec": {
      "name": "python3",
      "display_name": "Python 3"
    },
    "language_info": {
      "name": "python"
    }
  },
  "cells": [
    {
      "cell_type": "markdown",
      "metadata": {
        "id": "view-in-github",
        "colab_type": "text"
      },
      "source": [
        "<a href=\"https://colab.research.google.com/github/Yessenia-collab/Programming101/blob/main/Examen2_YesseniaChirinos.ipynb\" target=\"_parent\"><img src=\"https://colab.research.google.com/assets/colab-badge.svg\" alt=\"Open In Colab\"/></a>"
      ]
    },
    {
      "cell_type": "markdown",
      "source": [
        "EXAMEN: YESSENIA CHIRINOS TORANZO\n",
        "Construyendo el Sistema de Recomendación de PythonFlix\n",
        "Contexto: Eres parte del equipo de ingeniería de PythonFlix, una plataforma de streaming que necesita construir y mejorar su sistema de recomendación. Vas a trabajar con estructuras de datos como listas, tuplas, diccionarios y sets para procesar ratings, historiales y perfiles de usuario.\n"
      ],
      "metadata": {
        "id": "Zg1mma90v3EI"
      }
    },
    {
      "cell_type": "markdown",
      "source": [
        "1. Catálogo de contenido (Listas y tuplas)\n",
        "Tienes una tupla inmutable con las series más vistas:\n",
        "\n",
        "catalogo_popular = (\"Breaking Python\", \"Data Science 101\", \"Machine Love\", \"Debug Wars\")\n",
        "\n",
        "Convierte esta tupla en una lista y realiza lo siguiente:\n",
        "●\tAgrega una nueva serie: \"Neural Networks\"\n",
        "\n",
        "●\tReemplaza \"Debug Wars\" por \"AI Rebellion\"\n",
        "\n",
        "●\tOrdena la lista alfabéticamente\n"
      ],
      "metadata": {
        "id": "HWsOQ8nJv8KD"
      }
    },
    {
      "cell_type": "code",
      "source": [
        "# Tupla original\n",
        "catalogo_popular = (\"Breaking Python\", \"Data Science 101\", \"Machine Love\", \"Debug Wars\")\n",
        "\n",
        "# 1. Convertir la tupla en una lista\n",
        "catalogo_lista = list(catalogo_popular)\n",
        "\n",
        "# 2. Agregar una nueva serie\n",
        "catalogo_lista.append(\"Neural Networks\")\n",
        "\n",
        "# 3. Reemplazar \"Debug Wars\" por \"AI Rebellion\"\n",
        "# Verificamos si \"Debug Wars\" está en la lista y lo reemplazamos\n",
        "if \"Debug Wars\" in catalogo_lista:\n",
        "    index = catalogo_lista.index(\"Debug Wars\")\n",
        "    catalogo_lista[index] = \"AI Rebellion\"\n",
        "\n",
        "# 4. Ordenar la lista alfabéticamente\n",
        "catalogo_lista.sort()\n",
        "\n",
        "# Mostrar resultado final\n",
        "print(\"Catálogo actualizado:\", catalogo_lista)\n"
      ],
      "metadata": {
        "id": "-TFDZfo9w7rg",
        "outputId": "90d6d957-3af4-4860-9daf-143a9c95d4f5",
        "colab": {
          "base_uri": "https://localhost:8080/"
        }
      },
      "execution_count": 23,
      "outputs": [
        {
          "output_type": "stream",
          "name": "stdout",
          "text": [
            "Catálogo actualizado: ['AI Rebellion', 'Breaking Python', 'Data Science 101', 'Machine Love', 'Neural Networks']\n"
          ]
        }
      ]
    },
    {
      "cell_type": "markdown",
      "source": [
        "2. Filtrado de géneros (Slicing)\n",
        "Tienes una lista con los géneros disponibles:\n",
        "\n",
        "generos = [\"Drama\", \"Comedia\", \"Acción\", \"Sci-Fi\", \"Documental\", \"Terror\", \"Romance\"]\n",
        "\n",
        "Realiza:\n",
        "●\tUn slicing que obtenga los géneros del medio\n",
        "\n",
        "●\tUn slicing que obtenga los tres primeros géneros\n",
        "\n",
        "●\tLos géneros ordenados en orden inverso (usando slicing)\n",
        "\n"
      ],
      "metadata": {
        "id": "qjpOsO7jyAv_"
      }
    },
    {
      "cell_type": "code",
      "source": [
        "# Lista de géneros disponibles en PythonFlix\n",
        "generos = [\"Drama\", \"Comedia\", \"Acción\", \"Sci-Fi\", \"Documental\", \"Terror\", \"Romance\"]\n",
        "\n",
        "print(f\"DEBUG: Lista original de géneros: {generos}\\n\")\n",
        "\n",
        "longitud_generos = len(generos)\n",
        "\n",
        "if longitud_generos % 2 == 1: # Si la longitud es impar\n",
        "    indice_central = longitud_generos // 2\n",
        "    generos_del_medio = [generos[indice_central]] # Lo envolvemos en una lista para consistencia\n",
        "else: # Si la longitud es par\n",
        "    # Obtenemos los dos índices centrales\n",
        "    indice_central_inferior = longitud_generos // 2 - 1\n",
        "    indice_central_superior = longitud_generos // 2\n",
        "    generos_del_medio = generos[indice_central_inferior : indice_central_superior + 1]\n",
        "\n",
        "print(f\"RESULTADO: Géneros del medio: {generos_del_medio}\\n\")\n",
        "\n",
        "# Slicing que contenga los 3 primeros géneros\n",
        "tres_primeros_generos = generos[:3]\n",
        "print(f\"RESULTADO: Los tres primeros géneros: {tres_primeros_generos}\\n\")\n",
        "\n",
        "\n",
        "# Obtener los géneros en orden inverso (usando slicing)\n",
        "generos_en_orden_inverso = generos[::-1] # El paso -1 invierte la secuencia\n",
        "print(f\"RESULTADO: Géneros en orden inverso (usando slicing): {generos_en_orden_inverso}\\n\")"
      ],
      "metadata": {
        "id": "O7iDS7Xjyvek",
        "outputId": "fb5e9ce1-4699-4756-a2d2-caa8b2b60742",
        "colab": {
          "base_uri": "https://localhost:8080/"
        }
      },
      "execution_count": 3,
      "outputs": [
        {
          "output_type": "stream",
          "name": "stdout",
          "text": [
            "DEBUG: Lista original de géneros: ['Drama', 'Comedia', 'Acción', 'Sci-Fi', 'Documental', 'Terror', 'Romance']\n",
            "\n",
            "RESULTADO: Géneros del medio: ['Sci-Fi']\n",
            "\n",
            "RESULTADO: Los tres primeros géneros: ['Drama', 'Comedia', 'Acción']\n",
            "\n",
            "RESULTADO: Géneros en orden inverso (usando slicing): ['Romance', 'Terror', 'Documental', 'Sci-Fi', 'Acción', 'Comedia', 'Drama']\n",
            "\n"
          ]
        }
      ]
    },
    {
      "cell_type": "markdown",
      "source": [
        "3. Puntajes de usuarios (Listas por comprensión)\n",
        "Tienes una lista de ratings otorgados por un usuario a distintas series:\n",
        "ratings = [4.5, 3.0, 5.0, 2.5, 4.0, 1.5]\n",
        "(asuma escala del 0-5)\n",
        "Con listas por comprensión, crea:\n",
        "●\tUna lista con solo los ratings mayores a 3.5\n",
        "\n",
        "●\tUna lista con los ratings convertidos a una escala del 1 al 100\n",
        "\n",
        "●\tUna lista de strings que diga \"Alta\" si rating > 4, \"Media\" si entre 3 y 4, \"Baja\" si menor\n"
      ],
      "metadata": {
        "id": "84MIBgNm0ICo"
      }
    },
    {
      "cell_type": "code",
      "source": [
        "# Lista de ratings\n",
        "ratings = [4.5, 3.0, 5.0, 2.5, 4.0, 1.5]\n",
        "\n",
        "# 1. Lista con solo los ratings mayores a 3.5\n",
        "ratings_mayores_35 = [r for r in ratings if r > 3.5]\n",
        "\n",
        "# 2. Lista con los ratings convertidos a una escala del 1 al 100\n",
        "ratings_escala_100 = [int((r / 5.0) * 100) for r in ratings]\n",
        "\n",
        "# 3. Lista de strings que clasifica los ratings como \"Alta\", \"Media\" o \"Baja\"\n",
        "clasificaciones = [\n",
        "    \"Alta\" if r > 4 else \"Media\" if r >= 3 else \"Baja\"\n",
        "    for r in ratings\n",
        "]\n",
        "\n",
        "# Mostrar resultados\n",
        "print(\"Ratings mayores a 3.5:\", ratings_mayores_35)\n",
        "print(\"Ratings en escala 1-100:\", ratings_escala_100)\n",
        "print(\"Clasificaciones:\", clasificaciones)\n"
      ],
      "metadata": {
        "id": "u7j0sS6Q148g",
        "outputId": "87e325c0-6a6a-48f7-9762-bf0d9072b12f",
        "colab": {
          "base_uri": "https://localhost:8080/"
        }
      },
      "execution_count": 13,
      "outputs": [
        {
          "output_type": "stream",
          "name": "stdout",
          "text": [
            "Ratings mayores a 3.5: [4.5, 5.0, 4.0]\n",
            "Ratings en escala 1-100: [90, 60, 100, 50, 80, 30]\n",
            "Clasificaciones: ['Alta', 'Media', 'Alta', 'Baja', 'Media', 'Baja']\n"
          ]
        }
      ]
    },
    {
      "cell_type": "markdown",
      "source": [
        "4. Historial de visualización (Diccionarios)\n",
        "Tienes un diccionario que representa el historial de un usuario:\n",
        "historial = {\n",
        "  \"Breaking Python\": 3,\n",
        "  \"Machine Love\": 5,\n",
        "  \"Data Science 101\": 2\n",
        "}\n",
        "\n",
        "Realiza lo siguiente:\n",
        "●\tAumenta en 1 la cantidad de veces que vio \"Data Science 101\"\n",
        "\n",
        "●\tAñade la serie \"AI Rebellion\" con 1 visualización\n",
        "\n",
        "●\tElimina \"Machine Love\" del historial\n",
        "\n",
        "●\tMuestra todas las series que el usuario vio más de 2 veces"
      ],
      "metadata": {
        "id": "3FagDc8x2b78"
      }
    },
    {
      "cell_type": "code",
      "source": [
        "# Diccionario inicial\n",
        "historial = {\n",
        "    \"Breaking Python\": 3,\n",
        "    \"Machine Love\": 5,\n",
        "    \"Data Science 101\": 2\n",
        "}\n",
        "\n",
        "# 1. Aumenta en 1 la cantidad de veces que vio \"Data Science 101\"\n",
        "historial[\"Data Science 101\"] += 1\n",
        "\n",
        "# 2. Añade la serie \"AI Rebellion\" con 1 visualización\n",
        "historial[\"AI Rebellion\"] = 1\n",
        "\n",
        "# 3. Elimina \"Machine Love\" del historial\n",
        "del historial[\"Machine Love\"]\n",
        "\n",
        "# 4. Muestra todas las series que el usuario vio más de 2 veces\n",
        "series_mas_de_2 = [serie for serie, vistas in historial.items() if vistas > 2]\n",
        "\n",
        "# Mostrar resultados\n",
        "print(\"Historial actualizado:\", historial)\n",
        "print(\"Series vistas más de 2 veces:\", series_mas_de_2)\n"
      ],
      "metadata": {
        "id": "Sj4Rrx-22m-V",
        "outputId": "5b3af8ac-7aa0-4849-dcb9-8d911a9859a9",
        "colab": {
          "base_uri": "https://localhost:8080/"
        }
      },
      "execution_count": 14,
      "outputs": [
        {
          "output_type": "stream",
          "name": "stdout",
          "text": [
            "Historial actualizado: {'Breaking Python': 3, 'Data Science 101': 3, 'AI Rebellion': 1}\n",
            "Series vistas más de 2 veces: ['Breaking Python', 'Data Science 101']\n"
          ]
        }
      ]
    },
    {
      "cell_type": "markdown",
      "source": [
        "5. Usuarios únicos por serie (Sets)\n",
        "Tienes la siguiente información:\n",
        "\n",
        "usuarios_serie_A = {\"ana\", \"luis\", \"pedro\", \"maria\"}\n",
        "usuarios_serie_B = {\"maria\", \"pedro\", \"carla\", \"lucas\"}\n",
        "\n",
        "Usando sets:\n",
        "●\tEncuentra qué usuarios vieron ambas series\n",
        "\n",
        "●\tQué usuarios vieron solo la serie A\n",
        "\n",
        "●\tQué usuarios únicos vieron al menos una de las dos\n",
        "\n"
      ],
      "metadata": {
        "id": "MkluI4Jm4rnJ"
      }
    },
    {
      "cell_type": "code",
      "source": [
        "# Conjuntos de usuarios\n",
        "usuarios_serie_A = {\"ana\", \"luis\", \"pedro\", \"maria\"}\n",
        "usuarios_serie_B = {\"maria\", \"pedro\", \"carla\", \"lucas\"}\n",
        "\n",
        "# 1. Usuarios que vieron ambas series (intersección)\n",
        "usuarios_ambas = usuarios_serie_A & usuarios_serie_B\n",
        "\n",
        "# 2. Usuarios que vieron solo la serie A (diferencia)\n",
        "usuarios_solo_A = usuarios_serie_A - usuarios_serie_B\n",
        "\n",
        "# 3. Usuarios únicos que vieron al menos una de las dos (unión)\n",
        "usuarios_unicos = usuarios_serie_A | usuarios_serie_B\n",
        "\n",
        "# Mostrar resultados\n",
        "print(\"Usuarios que vieron ambas series:\", usuarios_ambas)\n",
        "print(\"Usuarios que vieron solo la serie A:\", usuarios_solo_A)\n",
        "print(\"Usuarios únicos que vieron al menos una serie:\", usuarios_unicos)\n"
      ],
      "metadata": {
        "id": "zhixKnWl6b4b",
        "outputId": "c7e63a1e-e921-4c97-f5dd-1e3c57a98d64",
        "colab": {
          "base_uri": "https://localhost:8080/"
        }
      },
      "execution_count": 15,
      "outputs": [
        {
          "output_type": "stream",
          "name": "stdout",
          "text": [
            "Usuarios que vieron ambas series: {'pedro', 'maria'}\n",
            "Usuarios que vieron solo la serie A: {'luis', 'ana'}\n",
            "Usuarios únicos que vieron al menos una serie: {'pedro', 'luis', 'maria', 'carla', 'lucas', 'ana'}\n"
          ]
        }
      ]
    },
    {
      "cell_type": "markdown",
      "source": [
        "6. Recomendaciones compartidas (Diccionario + Sets)\n",
        "Tienes una estructura con recomendaciones por usuario:\n",
        "recomendaciones = {\n",
        "  \"ana\": {\"Machine Love\", \"AI Rebellion\"},\n",
        "  \"luis\": {\"AI Rebellion\", \"Debug Wars\"},\n",
        "  \"pedro\": {\"Debug Wars\", \"Machine Love\"}\n",
        "}\n",
        "\n",
        "Encuentra con código:\n",
        "●\tLas series que fueron recomendadas a todos\n",
        "\n",
        "●\tLas series recomendadas a al menos dos personas\n",
        "\n",
        "●\tLas series recomendadas solo a una persona\n",
        "\n"
      ],
      "metadata": {
        "id": "UIdEnhlQ7GIH"
      }
    },
    {
      "cell_type": "code",
      "source": [
        "# Recomendaciones por usuario\n",
        "recomendaciones = {\n",
        "    \"ana\": {\"Machine Love\", \"AI Rebellion\"},\n",
        "    \"luis\": {\"AI Rebellion\", \"Debug Wars\"},\n",
        "    \"pedro\": {\"Debug Wars\", \"Machine Love\"}\n",
        "}\n",
        "\n",
        "# 1. Series recomendadas a todos (intersección de sets)\n",
        "recomendadas_a_todos = set.intersection(*recomendaciones.values())\n",
        "\n",
        "# 2. Series recomendadas a al menos dos personas\n",
        "from collections import Counter\n",
        "\n",
        "# Contamos cuántas veces aparece cada serie\n",
        "contador_series = Counter(serie for series in recomendaciones.values() for serie in series)\n",
        "recomendadas_a_dos_o_mas = {serie for serie, count in contador_series.items() if count >= 2}\n",
        "\n",
        "# 3. Series recomendadas solo a una persona\n",
        "recomendadas_a_una = {serie for serie, count in contador_series.items() if count == 1}\n",
        "\n",
        "# Mostrar resultados\n",
        "print(\"Series recomendadas a todos:\", recomendadas_a_todos)\n",
        "print(\"Series recomendadas a al menos dos personas:\", recomendadas_a_dos_o_mas)\n",
        "print(\"Series recomendadas solo a una persona:\", recomendadas_a_una)\n"
      ],
      "metadata": {
        "id": "ODcEdyTj7Omn",
        "outputId": "e23a1fff-8941-4235-95db-ee77c8a6f3e8",
        "colab": {
          "base_uri": "https://localhost:8080/"
        }
      },
      "execution_count": 16,
      "outputs": [
        {
          "output_type": "stream",
          "name": "stdout",
          "text": [
            "Series recomendadas a todos: set()\n",
            "Series recomendadas a al menos dos personas: {'Machine Love', 'AI Rebellion', 'Debug Wars'}\n",
            "Series recomendadas solo a una persona: set()\n"
          ]
        }
      ]
    },
    {
      "cell_type": "markdown",
      "source": [
        "7. Transformar ratings (Tuplas + comprensión de diccionario)\n",
        "Tienes una lista de tuplas con (serie, rating):\n",
        "puntuaciones = [(\"Breaking Python\", 4.0), (\"AI Rebellion\", 5.0), (\"Debug Wars\", 2.0)]\n",
        "\n",
        "Crea un diccionario en el formato:\n",
        "{\n",
        "  \"Breaking Python\": \"Buena\",\n",
        "  \"AI Rebellion\": \"Excelente\",\n",
        "  \"Debug Wars\": \"Regular\"\n",
        "}\n",
        "\n",
        "Regla:\n",
        "●\tRating >= 4.5 → \"Excelente\"\n",
        "\n",
        "●\t3 <= rating < 4.5 → \"Buena\"\n",
        "\n",
        "●\t< 3 → \"Regular\"\n"
      ],
      "metadata": {
        "id": "UKi7wVqf7cqN"
      }
    },
    {
      "cell_type": "code",
      "source": [
        "# Lista de tuplas con (serie, rating)\n",
        "puntuaciones = [(\"Breaking Python\", 4.0), (\"AI Rebellion\", 5.0), (\"Debug Wars\", 2.0)]\n",
        "\n",
        "# Comprensión de diccionario con reglas de clasificación\n",
        "clasificacion_series = {\n",
        "    serie: \"Excelente\" if rating >= 4.5 else \"Buena\" if rating >= 3 else \"Regular\"\n",
        "    for serie, rating in puntuaciones\n",
        "}\n",
        "\n",
        "# Mostrar resultado\n",
        "print(clasificacion_series)\n"
      ],
      "metadata": {
        "id": "1TdvRtNH7lQN",
        "outputId": "86b0e40b-8c71-443d-918c-b061bdde9a50",
        "colab": {
          "base_uri": "https://localhost:8080/"
        }
      },
      "execution_count": 17,
      "outputs": [
        {
          "output_type": "stream",
          "name": "stdout",
          "text": [
            "{'Breaking Python': 'Buena', 'AI Rebellion': 'Excelente', 'Debug Wars': 'Regular'}\n"
          ]
        }
      ]
    },
    {
      "cell_type": "markdown",
      "source": [
        "8. Usuarios y géneros favoritos (Diccionario + slicing)\n",
        "Cada usuario tiene una lista de sus géneros preferidos (ordenados por preferencia):\n",
        "gustos = {\n",
        "  \"ana\": [\"Sci-Fi\", \"Drama\", \"Documental\"],\n",
        "  \"luis\": [\"Comedia\", \"Acción\", \"Sci-Fi\"],\n",
        "  \"pedro\": [\"Drama\", \"Sci-Fi\", \"Romance\"]\n",
        "}\n",
        "\n",
        "Realiza:\n",
        "●\tUna lista con el primer género favorito de cada usuario\n",
        "\n",
        "●\tUna lista con todos los géneros mencionados sin repeticiones\n",
        "\n",
        "●\t¿Cuál género aparece más veces en la primera posición?\n",
        "\n"
      ],
      "metadata": {
        "id": "WE_NjQMB7q1Y"
      }
    },
    {
      "cell_type": "code",
      "source": [
        "# Diccionario de gustos por usuario\n",
        "gustos = {\n",
        "    \"ana\": [\"Sci-Fi\", \"Drama\", \"Documental\"],\n",
        "    \"luis\": [\"Comedia\", \"Acción\", \"Sci-Fi\"],\n",
        "    \"pedro\": [\"Drama\", \"Sci-Fi\", \"Romance\"]\n",
        "}\n",
        "\n",
        "# 1. Lista con el primer género favorito de cada usuario\n",
        "primeros_generos = [generos[0] for generos in gustos.values()]\n",
        "\n",
        "# 2. Lista con todos los géneros mencionados sin repeticiones\n",
        "todos_los_generos = set(genero for generos in gustos.values() for genero in generos)\n",
        "\n",
        "# 3. ¿Cuál género aparece más veces en la primera posición?\n",
        "from collections import Counter\n",
        "contador_primeros = Counter(primeros_generos)\n",
        "genero_mas_frecuente = contador_primeros.most_common(1)[0][0]\n",
        "\n",
        "# Mostrar resultados\n",
        "print(\"Primer género favorito de cada usuario:\", primeros_generos)\n",
        "print(\"Géneros únicos mencionados:\", todos_los_generos)\n",
        "print(\"Género más común en primera posición:\", genero_mas_frecuente)\n"
      ],
      "metadata": {
        "id": "AetAIZrK7yy4",
        "outputId": "78a8b24a-48bf-45c9-88e4-367e20346467",
        "colab": {
          "base_uri": "https://localhost:8080/"
        }
      },
      "execution_count": 18,
      "outputs": [
        {
          "output_type": "stream",
          "name": "stdout",
          "text": [
            "Primer género favorito de cada usuario: ['Sci-Fi', 'Comedia', 'Drama']\n",
            "Géneros únicos mencionados: {'Comedia', 'Documental', 'Drama', 'Romance', 'Sci-Fi', 'Acción'}\n",
            "Género más común en primera posición: Sci-Fi\n"
          ]
        }
      ]
    },
    {
      "cell_type": "markdown",
      "source": [
        "9. Resumen de votos por serie (Diccionario + listas)\n",
        "Tienes una lista de votos como pares (serie, puntaje):\n",
        "votos = [(\"Breaking Python\", 5), (\"AI Rebellion\", 4), (\"Breaking Python\", 4), (\"Debug Wars\", 3), (\"AI Rebellion\", 5)]\n",
        "\n",
        "Crea un diccionario donde la clave sea la serie y el valor una lista con todos sus votos. Ejemplo:\n",
        "{\n",
        "  \"Breaking Python\": [5, 4],\n",
        "  ...\n",
        "}\n",
        "\n",
        "Luego, calcula el promedio de rating de cada serie.\n"
      ],
      "metadata": {
        "id": "txmz8ifp73Rn"
      }
    },
    {
      "cell_type": "code",
      "source": [
        "from collections import defaultdict\n",
        "\n",
        "# Lista de votos (serie, puntaje)\n",
        "votos = [\n",
        "    (\"Breaking Python\", 5),\n",
        "    (\"AI Rebellion\", 4),\n",
        "    (\"Breaking Python\", 4),\n",
        "    (\"Debug Wars\", 3),\n",
        "    (\"AI Rebellion\", 5)\n",
        "]\n",
        "\n",
        "# 1. Crear diccionario con listas de votos por serie\n",
        "votos_por_serie = defaultdict(list)\n",
        "\n",
        "for serie, puntaje in votos:\n",
        "    votos_por_serie[serie].append(puntaje)\n",
        "\n",
        "# 2. Calcular promedio de rating por serie\n",
        "promedios_por_serie = {\n",
        "    serie: sum(puntajes) / len(puntajes)\n",
        "    for serie, puntajes in votos_por_serie.items()\n",
        "}\n",
        "\n",
        "# Mostrar resultados\n",
        "print(\"Votos por serie:\", dict(votos_por_serie))\n",
        "print(\"Promedios por serie:\", promedios_por_serie)\n"
      ],
      "metadata": {
        "id": "EHpNqNOy79yC",
        "outputId": "c5358350-45ea-4142-e76b-cda6410c563b",
        "colab": {
          "base_uri": "https://localhost:8080/"
        }
      },
      "execution_count": 19,
      "outputs": [
        {
          "output_type": "stream",
          "name": "stdout",
          "text": [
            "Votos por serie: {'Breaking Python': [5, 4], 'AI Rebellion': [4, 5], 'Debug Wars': [3]}\n",
            "Promedios por serie: {'Breaking Python': 4.5, 'AI Rebellion': 4.5, 'Debug Wars': 3.0}\n"
          ]
        }
      ]
    },
    {
      "cell_type": "markdown",
      "source": [
        "10. Motor básico de recomendaciones (Integrador)\n",
        "Define una función recomendar_series(usuario, historial, catalogo) que:\n",
        "●\tReciba el nombre de usuario, su historial en forma de diccionario {serie: vistas} y un catálogo con todas las series disponibles.\n",
        "\n",
        "●\tDevuelva una lista de series del catálogo que no haya visto aún.\n",
        "\n",
        "Ejemplo:\n",
        "usuario = \"ana\"\n",
        "historial = {\"AI Rebellion\": 3, \"Debug Wars\": 1}\n",
        "catalogo = [\"AI Rebellion\", \"Debug Wars\", \"Machine Love\", \"Data Science 101\"]\n",
        "\n",
        "Resultado:\n",
        "[\"Machine Love\", \"Data Science 101\"]\n",
        "\n"
      ],
      "metadata": {
        "id": "Qeacsx3y7_4M"
      }
    },
    {
      "cell_type": "code",
      "source": [
        "usuario = \"ana\"\n",
        "historial = {\n",
        "    \"AI Rebellion\": 3,\n",
        "    \"Debug Wars\": 1\n",
        "}\n",
        "catalogo = [\"AI Rebellion\", \"Debug Wars\", \"Machine Love\", \"Data Science 101\"]\n",
        "\n",
        "resultado = recomendar_series(usuario, historial, catalogo)\n",
        "print(resultado)\n"
      ],
      "metadata": {
        "id": "vOMnawGV8qms",
        "outputId": "4204550e-1e30-45c5-a76c-831973577b53",
        "colab": {
          "base_uri": "https://localhost:8080/"
        }
      },
      "execution_count": 24,
      "outputs": [
        {
          "output_type": "stream",
          "name": "stdout",
          "text": [
            "DEBUG: Generando recomendaciones para el usuario: 'ana'\n",
            "DEBUG: Historial de 'ana': {'AI Rebellion': 3, 'Debug Wars': 1}\n",
            "DEBUG: Catálogo completo: ['AI Rebellion', 'Debug Wars', 'Machine Love', 'Data Science 101']\n",
            "\n",
            "DEBUG: Series ya vistas (set): {'AI Rebellion', 'Debug Wars'}\n",
            "\n",
            "['Machine Love', 'Data Science 101']\n"
          ]
        }
      ]
    }
  ]
}